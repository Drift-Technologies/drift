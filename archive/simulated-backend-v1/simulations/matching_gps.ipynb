{
 "cells": [
  {
   "cell_type": "code",
   "execution_count": 2,
   "metadata": {},
   "outputs": [],
   "source": [
    "import pandas as pd\n",
    "import numpy as np\n",
    "import h3\n",
    "\n",
    "\n"
   ]
  },
  {
   "cell_type": "code",
   "execution_count": 3,
   "metadata": {},
   "outputs": [
    {
     "name": "stdout",
     "output_type": "stream",
     "text": [
      "Name: h3\n",
      "Version: 3.7.7\n",
      "Summary: Hierarchical hexagonal geospatial indexing system\n",
      "Home-page: https://github.com/uber/h3-py\n",
      "Author: Uber Technologies\n",
      "Author-email: AJ Friend <ajfriend@gmail.com>\n",
      "License: Apache 2.0 License\n",
      "Location: /Users/JLY/miniforge3/envs/ds/lib/python3.11/site-packages\n",
      "Requires: \n",
      "Required-by: \n"
     ]
    }
   ],
   "source": [
    "!pip show h3"
   ]
  },
  {
   "cell_type": "code",
   "execution_count": null,
   "metadata": {},
   "outputs": [],
   "source": [
    "def match_gps_to_bus(phone_lat, phone_lon, bus_lat, bus_lon):\n",
    "    H3_RES = 10\n",
    "    phone_h3 = h3.geo_to_h3(phone_lat, phone_lon, H3_RES)\n",
    "    bus_h3 = h3.geo_to_h3(bus_lat, bus_lon, H3_RES)\n",
    "    return phone_h3 == bus_h3\n",
    "\n"
   ]
  }
 ],
 "metadata": {
  "kernelspec": {
   "display_name": "ds",
   "language": "python",
   "name": "python3"
  },
  "language_info": {
   "codemirror_mode": {
    "name": "ipython",
    "version": 3
   },
   "file_extension": ".py",
   "mimetype": "text/x-python",
   "name": "python",
   "nbconvert_exporter": "python",
   "pygments_lexer": "ipython3",
   "version": "3.11.9"
  }
 },
 "nbformat": 4,
 "nbformat_minor": 2
}
