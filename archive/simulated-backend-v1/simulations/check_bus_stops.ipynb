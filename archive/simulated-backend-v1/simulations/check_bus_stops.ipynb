{
 "cells": [
  {
   "cell_type": "code",
   "execution_count": 1,
   "metadata": {},
   "outputs": [],
   "source": [
    "import pandas as pd\n",
    "import numpy as np\n",
    "import h3\n",
    "\n"
   ]
  },
  {
   "cell_type": "code",
   "execution_count": 3,
   "metadata": {},
   "outputs": [],
   "source": [
    "stop_times = pd.read_csv('../data/gtfs_static/stop_times.txt')"
   ]
  },
  {
   "cell_type": "code",
   "execution_count": 10,
   "metadata": {},
   "outputs": [],
   "source": [
    "routes = pd.read_csv('../data/gtfs_static/routes.txt')"
   ]
  },
  {
   "cell_type": "code",
   "execution_count": 12,
   "metadata": {},
   "outputs": [
    {
     "data": {
      "text/plain": [
       "239"
      ]
     },
     "execution_count": 12,
     "metadata": {},
     "output_type": "execute_result"
    }
   ],
   "source": [
    "routes.route_id.nunique()"
   ]
  },
  {
   "cell_type": "code",
   "execution_count": 9,
   "metadata": {},
   "outputs": [
    {
     "data": {
      "text/html": [
       "<div>\n",
       "<style scoped>\n",
       "    .dataframe tbody tr th:only-of-type {\n",
       "        vertical-align: middle;\n",
       "    }\n",
       "\n",
       "    .dataframe tbody tr th {\n",
       "        vertical-align: top;\n",
       "    }\n",
       "\n",
       "    .dataframe thead th {\n",
       "        text-align: right;\n",
       "    }\n",
       "</style>\n",
       "<table border=\"1\" class=\"dataframe\">\n",
       "  <thead>\n",
       "    <tr style=\"text-align: right;\">\n",
       "      <th></th>\n",
       "      <th>trip_id</th>\n",
       "      <th>arrival_time</th>\n",
       "      <th>departure_time</th>\n",
       "      <th>stop_id</th>\n",
       "      <th>stop_sequence</th>\n",
       "      <th>stop_headsign</th>\n",
       "      <th>pickup_type</th>\n",
       "      <th>drop_off_type</th>\n",
       "      <th>shape_dist_traveled</th>\n",
       "      <th>timepoint</th>\n",
       "    </tr>\n",
       "  </thead>\n",
       "  <tbody>\n",
       "    <tr>\n",
       "      <th>0</th>\n",
       "      <td>14305517</td>\n",
       "      <td>20:02:00</td>\n",
       "      <td>20:02:00</td>\n",
       "      <td>12238</td>\n",
       "      <td>1</td>\n",
       "      <td>NaN</td>\n",
       "      <td>NaN</td>\n",
       "      <td>NaN</td>\n",
       "      <td>NaN</td>\n",
       "      <td>1</td>\n",
       "    </tr>\n",
       "    <tr>\n",
       "      <th>1</th>\n",
       "      <td>14305517</td>\n",
       "      <td>20:03:00</td>\n",
       "      <td>20:03:00</td>\n",
       "      <td>12236</td>\n",
       "      <td>2</td>\n",
       "      <td>NaN</td>\n",
       "      <td>NaN</td>\n",
       "      <td>NaN</td>\n",
       "      <td>0.6214</td>\n",
       "      <td>1</td>\n",
       "    </tr>\n",
       "    <tr>\n",
       "      <th>2</th>\n",
       "      <td>14305517</td>\n",
       "      <td>20:05:00</td>\n",
       "      <td>20:05:00</td>\n",
       "      <td>12234</td>\n",
       "      <td>3</td>\n",
       "      <td>NaN</td>\n",
       "      <td>NaN</td>\n",
       "      <td>NaN</td>\n",
       "      <td>1.4993</td>\n",
       "      <td>1</td>\n",
       "    </tr>\n",
       "    <tr>\n",
       "      <th>3</th>\n",
       "      <td>14305517</td>\n",
       "      <td>20:08:00</td>\n",
       "      <td>20:08:00</td>\n",
       "      <td>12232</td>\n",
       "      <td>4</td>\n",
       "      <td>NaN</td>\n",
       "      <td>NaN</td>\n",
       "      <td>NaN</td>\n",
       "      <td>3.5732</td>\n",
       "      <td>1</td>\n",
       "    </tr>\n",
       "    <tr>\n",
       "      <th>4</th>\n",
       "      <td>14305517</td>\n",
       "      <td>20:10:00</td>\n",
       "      <td>20:10:00</td>\n",
       "      <td>12230</td>\n",
       "      <td>5</td>\n",
       "      <td>NaN</td>\n",
       "      <td>NaN</td>\n",
       "      <td>NaN</td>\n",
       "      <td>4.8670</td>\n",
       "      <td>1</td>\n",
       "    </tr>\n",
       "    <tr>\n",
       "      <th>...</th>\n",
       "      <td>...</td>\n",
       "      <td>...</td>\n",
       "      <td>...</td>\n",
       "      <td>...</td>\n",
       "      <td>...</td>\n",
       "      <td>...</td>\n",
       "      <td>...</td>\n",
       "      <td>...</td>\n",
       "      <td>...</td>\n",
       "      <td>...</td>\n",
       "    </tr>\n",
       "    <tr>\n",
       "      <th>3598588</th>\n",
       "      <td>14268224</td>\n",
       "      <td>15:34:18</td>\n",
       "      <td>15:34:18</td>\n",
       "      <td>2508</td>\n",
       "      <td>23</td>\n",
       "      <td>NaN</td>\n",
       "      <td>NaN</td>\n",
       "      <td>NaN</td>\n",
       "      <td>5.9512</td>\n",
       "      <td>0</td>\n",
       "    </tr>\n",
       "    <tr>\n",
       "      <th>3598589</th>\n",
       "      <td>14268224</td>\n",
       "      <td>15:35:20</td>\n",
       "      <td>15:35:20</td>\n",
       "      <td>2323</td>\n",
       "      <td>24</td>\n",
       "      <td>NaN</td>\n",
       "      <td>NaN</td>\n",
       "      <td>NaN</td>\n",
       "      <td>6.2200</td>\n",
       "      <td>0</td>\n",
       "    </tr>\n",
       "    <tr>\n",
       "      <th>3598590</th>\n",
       "      <td>14268224</td>\n",
       "      <td>15:36:53</td>\n",
       "      <td>15:36:53</td>\n",
       "      <td>2325</td>\n",
       "      <td>25</td>\n",
       "      <td>NaN</td>\n",
       "      <td>NaN</td>\n",
       "      <td>NaN</td>\n",
       "      <td>6.6233</td>\n",
       "      <td>0</td>\n",
       "    </tr>\n",
       "    <tr>\n",
       "      <th>3598591</th>\n",
       "      <td>14268224</td>\n",
       "      <td>15:38:12</td>\n",
       "      <td>15:38:12</td>\n",
       "      <td>1442</td>\n",
       "      <td>26</td>\n",
       "      <td>NaN</td>\n",
       "      <td>NaN</td>\n",
       "      <td>NaN</td>\n",
       "      <td>6.9676</td>\n",
       "      <td>0</td>\n",
       "    </tr>\n",
       "    <tr>\n",
       "      <th>3598592</th>\n",
       "      <td>14268224</td>\n",
       "      <td>15:39:00</td>\n",
       "      <td>15:39:00</td>\n",
       "      <td>1443</td>\n",
       "      <td>27</td>\n",
       "      <td>NaN</td>\n",
       "      <td>1.0</td>\n",
       "      <td>NaN</td>\n",
       "      <td>7.1471</td>\n",
       "      <td>1</td>\n",
       "    </tr>\n",
       "  </tbody>\n",
       "</table>\n",
       "<p>3598593 rows × 10 columns</p>\n",
       "</div>"
      ],
      "text/plain": [
       "          trip_id arrival_time departure_time  stop_id  stop_sequence  \\\n",
       "0        14305517     20:02:00       20:02:00    12238              1   \n",
       "1        14305517     20:03:00       20:03:00    12236              2   \n",
       "2        14305517     20:05:00       20:05:00    12234              3   \n",
       "3        14305517     20:08:00       20:08:00    12232              4   \n",
       "4        14305517     20:10:00       20:10:00    12230              5   \n",
       "...           ...          ...            ...      ...            ...   \n",
       "3598588  14268224     15:34:18       15:34:18     2508             23   \n",
       "3598589  14268224     15:35:20       15:35:20     2323             24   \n",
       "3598590  14268224     15:36:53       15:36:53     2325             25   \n",
       "3598591  14268224     15:38:12       15:38:12     1442             26   \n",
       "3598592  14268224     15:39:00       15:39:00     1443             27   \n",
       "\n",
       "         stop_headsign  pickup_type  drop_off_type  shape_dist_traveled  \\\n",
       "0                  NaN          NaN            NaN                  NaN   \n",
       "1                  NaN          NaN            NaN               0.6214   \n",
       "2                  NaN          NaN            NaN               1.4993   \n",
       "3                  NaN          NaN            NaN               3.5732   \n",
       "4                  NaN          NaN            NaN               4.8670   \n",
       "...                ...          ...            ...                  ...   \n",
       "3598588            NaN          NaN            NaN               5.9512   \n",
       "3598589            NaN          NaN            NaN               6.2200   \n",
       "3598590            NaN          NaN            NaN               6.6233   \n",
       "3598591            NaN          NaN            NaN               6.9676   \n",
       "3598592            NaN          1.0            NaN               7.1471   \n",
       "\n",
       "         timepoint  \n",
       "0                1  \n",
       "1                1  \n",
       "2                1  \n",
       "3                1  \n",
       "4                1  \n",
       "...            ...  \n",
       "3598588          0  \n",
       "3598589          0  \n",
       "3598590          0  \n",
       "3598591          0  \n",
       "3598592          1  \n",
       "\n",
       "[3598593 rows x 10 columns]"
      ]
     },
     "execution_count": 9,
     "metadata": {},
     "output_type": "execute_result"
    }
   ],
   "source": [
    "stop_times"
   ]
  },
  {
   "cell_type": "code",
   "execution_count": 6,
   "metadata": {},
   "outputs": [],
   "source": [
    "stop_times_agg = stop_times.groupby('trip_id').agg(max_stop_sequence=('stop_sequence', 'max'))"
   ]
  },
  {
   "cell_type": "code",
   "execution_count": 8,
   "metadata": {},
   "outputs": [
    {
     "data": {
      "text/plain": [
       "max_stop_sequence\n",
       "20    5703\n",
       "13    5283\n",
       "17    5046\n",
       "15    4993\n",
       "14    4686\n",
       "      ... \n",
       "78      14\n",
       "80      10\n",
       "67       2\n",
       "69       2\n",
       "73       2\n",
       "Name: count, Length: 78, dtype: int64"
      ]
     },
     "execution_count": 8,
     "metadata": {},
     "output_type": "execute_result"
    }
   ],
   "source": [
    "stop_times_agg.max_stop_sequence.value_counts()"
   ]
  },
  {
   "cell_type": "code",
   "execution_count": 14,
   "metadata": {},
   "outputs": [
    {
     "data": {
      "text/plain": [
       "33750.0"
      ]
     },
     "execution_count": 14,
     "metadata": {},
     "output_type": "execute_result"
    }
   ],
   "source": [
    "50*30*15*1.5 \n"
   ]
  }
 ],
 "metadata": {
  "kernelspec": {
   "display_name": "Python 3",
   "language": "python",
   "name": "python3"
  },
  "language_info": {
   "codemirror_mode": {
    "name": "ipython",
    "version": 3
   },
   "file_extension": ".py",
   "mimetype": "text/x-python",
   "name": "python",
   "nbconvert_exporter": "python",
   "pygments_lexer": "ipython3",
   "version": "3.11.9"
  }
 },
 "nbformat": 4,
 "nbformat_minor": 2
}
