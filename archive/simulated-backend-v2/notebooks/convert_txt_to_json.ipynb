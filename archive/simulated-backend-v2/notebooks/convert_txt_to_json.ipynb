{
 "cells": [
  {
   "cell_type": "code",
   "execution_count": 1,
   "metadata": {},
   "outputs": [
    {
     "name": "stdout",
     "output_type": "stream",
     "text": [
      "CSV file converted to JSON successfully!\n"
     ]
    }
   ],
   "source": [
    "import pandas as pd\n",
    "import json\n",
    "\n",
    "# Load the CSV file\n",
    "df = pd.read_csv('../data/gtfs_static/shapes.csv')\n",
    "\n",
    "# Convert the dataframe to a list of dictionaries (JSON format)\n",
    "json_data = df.to_dict(orient='records')\n",
    "\n",
    "# Save to a JSON file\n",
    "with open('../data/proc/shapes.json', 'w') as json_file:\n",
    "    json.dump(json_data, json_file, indent=2)\n",
    "\n",
    "print(\"CSV file converted to JSON successfully!\")\n"
   ]
  },
  {
   "cell_type": "code",
   "execution_count": null,
   "metadata": {},
   "outputs": [],
   "source": []
  }
 ],
 "metadata": {
  "kernelspec": {
   "display_name": "573",
   "language": "python",
   "name": "python3"
  },
  "language_info": {
   "codemirror_mode": {
    "name": "ipython",
    "version": 3
   },
   "file_extension": ".py",
   "mimetype": "text/x-python",
   "name": "python",
   "nbconvert_exporter": "python",
   "pygments_lexer": "ipython3",
   "version": "3.12.7"
  }
 },
 "nbformat": 4,
 "nbformat_minor": 2
}
